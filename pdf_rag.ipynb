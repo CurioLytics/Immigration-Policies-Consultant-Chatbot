{
 "cells": [
  {
   "cell_type": "markdown",
   "metadata": {},
   "source": [
    "# PDF RAG System with Vietnamese Language Support\n",
    "\n",
    "This notebook implements a Retrieval-Augmented Generation (RAG) system for PDF documents with support for Vietnamese language using:\n",
    "- LangChain for the RAG pipeline\n",
    "- Qdrant for vector storage\n",
    "- Google Gemini for embedding and generation\n",
    "- PyPDF and PyMuPDF for PDF processing"
   ]
  },
  {
   "cell_type": "markdown",
   "metadata": {},
   "source": [
    "## Install Required Packages\n",
    "\n",
    "First, let's install all necessary packages:"
   ]
  },
  {
   "cell_type": "markdown",
   "metadata": {},
   "source": [
    "## Import Dependencies"
   ]
  },
  {
   "cell_type": "code",
   "execution_count": null,
   "metadata": {},
   "outputs": [
    {
     "name": "stderr",
     "output_type": "stream",
     "text": [
      "d:\\S4V\\rag-pipeline-langchain-qdrant\\venv\\Lib\\site-packages\\tqdm\\auto.py:21: TqdmWarning: IProgress not found. Please update jupyter and ipywidgets. See https://ipywidgets.readthedocs.io/en/stable/user_install.html\n",
      "  from .autonotebook import tqdm as notebook_tqdm\n"
     ]
    }
   ],
   "source": [
    "# -----------------------------\n",
    "# 🔑  PLACEHOLDER CONFIG\n",
    "# -----------------------------\n",
    "import os\n",
    "\n",
    "# -- Google Gemini / Gemini 1.5-flash –\n",
    "GOOGLE_API_KEY = os.getenv(\"GOOGLE_API_KEY\", \"your_api_key\")\n",
    "# -- Jina AI Embeddings –\n",
    "JINA_API_KEY = os.getenv(\"JINA_API_KEY\", \"your_api_key\")\n",
    "# Put the keys in env so downstream libs pick them up automatically\n",
    "os.environ[\"GOOGLE_API_KEY\"] = GOOGLE_API_KEY\n",
    "os.environ[\"JINA_API_KEY\"] = JINA_API_KEY\n",
    "# -----------------------------\n",
    "\n",
    "import tempfile\n",
    "import fitz  # PyMuPDF\n",
    "from typing import List\n",
    "import google.generativeai as genai\n",
    "\n",
    "# LangChain / LLM + Embeddings\n",
    "from langchain_google_genai import ChatGoogleGenerativeAI\n",
    "from langchain_community.embeddings import JinaEmbeddings\n",
    "\n",
    "from langchain.text_splitter import RecursiveCharacterTextSplitter\n",
    "from langchain_core.documents import Document\n",
    "from langchain_core.prompts import ChatPromptTemplate, MessagesPlaceholder\n",
    "from langchain_core.runnables import RunnablePassthrough\n",
    "from langchain_core.output_parsers import StrOutputParser\n",
    "\n",
    "from langchain_qdrant import Qdrant, QdrantVectorStore, RetrievalMode\n",
    "from qdrant_client import QdrantClient\n",
    "from qdrant_client.models import VectorParams, Distance\n",
    "\n",
    "genai.configure(api_key=GOOGLE_API_KEY)\n",
    "\n",
    "# Initialise Jina embeddings up-front so we can reuse them everywhere\n",
    "text_embeddings = JinaEmbeddings(\n",
    "    jina_api_key=JINA_API_KEY, model_name=\"jina-embeddings-v3\"\n",
    ")\n",
    "#Qdrant\n"
   ]
  },
  {
   "cell_type": "markdown",
   "metadata": {},
   "source": [
    "## PDF Processing Functions\n",
    "\n",
    "We'll implement enhanced PDF extraction with support for Vietnamese text using PyMuPDF (fitz):"
   ]
  },
  {
   "cell_type": "code",
   "execution_count": 3,
   "metadata": {},
   "outputs": [],
   "source": [
    "def extract_text_from_pdf(pdf_path: str) -> List[Document]:\n",
    "    \"\"\"\n",
    "    Extract text from PDF with special handling for Vietnamese text.\n",
    "    \n",
    "    Args:\n",
    "        pdf_path: Path to the PDF file\n",
    "        \n",
    "    Returns:\n",
    "        List of Document objects with text content and metadata\n",
    "    \"\"\"\n",
    "    documents = []\n",
    "    \n",
    "    try:\n",
    "        # Open the PDF file using PyMuPDF\n",
    "        pdf_document = fitz.open(pdf_path)\n",
    "        \n",
    "        # Process each page\n",
    "        for page_num, page in enumerate(pdf_document):\n",
    "            # Extract text from the page with improved handling for Vietnamese characters\n",
    "            text = page.get_text(\"text\")\n",
    "            \n",
    "            # Skip empty pages\n",
    "            if not text.strip():\n",
    "                continue\n",
    "                \n",
    "            # Create a Document object with metadata\n",
    "            doc = Document(\n",
    "                page_content=text,\n",
    "                metadata={\n",
    "                    \"source\": pdf_path,\n",
    "                    \"page_number\": page_num + 1,\n",
    "                    \"total_pages\": len(pdf_document)\n",
    "                }\n",
    "            )\n",
    "            documents.append(doc)\n",
    "            \n",
    "    except Exception as e:\n",
    "        print(f\"Error extracting text from PDF: {e}\")\n",
    "    \n",
    "    return documents\n",
    "\n",
    "def split_documents(documents: List[Document], chunk_size: int = 1024\n",
    "                    , chunk_overlap: int = 200) -> List[Document]:\n",
    "    \"\"\"\n",
    "    Split documents into chunks for better processing.\n",
    "    \n",
    "    Args:\n",
    "        documents: List of Document objects\n",
    "        chunk_size: Size of each chunk in characters\n",
    "        chunk_overlap: Overlap between chunks in characters\n",
    "        \n",
    "    Returns:\n",
    "        List of Document objects split into chunks\n",
    "    \"\"\"\n",
    "    # Create a text splitter optimized for Vietnamese\n",
    "    text_splitter = RecursiveCharacterTextSplitter(\n",
    "        chunk_size=chunk_size,\n",
    "        chunk_overlap=chunk_overlap,\n",
    "        separators=[\"\\n\\n\", \"\\n\", \".\", \"!\", \"?\", \",\", \" \", \"\"],\n",
    "        keep_separator=True\n",
    "    )\n",
    "    \n",
    "    # Split the documents\n",
    "    return text_splitter.split_documents(documents)"
   ]
  },
  {
   "cell_type": "markdown",
   "metadata": {},
   "source": [
    "## Extract text from scaned PDF\n",
    "\n",
    "Implement scanned pdf to documents"
   ]
  },
  {
   "cell_type": "code",
   "execution_count": 4,
   "metadata": {},
   "outputs": [],
   "source": [
    "import tqdm"
   ]
  },
  {
   "cell_type": "code",
   "execution_count": 5,
   "metadata": {},
   "outputs": [
    {
     "name": "stderr",
     "output_type": "stream",
     "text": [
      "d:\\S4V\\rag-pipeline-langchain-qdrant\\venv\\Lib\\site-packages\\tqdm\\auto.py:21: TqdmWarning: IProgress not found. Please update jupyter and ipywidgets. See https://ipywidgets.readthedocs.io/en/stable/user_install.html\n",
      "  from .autonotebook import tqdm as notebook_tqdm\n"
     ]
    }
   ],
   "source": [
    "from __future__ import annotations\n",
    "from pathlib import Path\n",
    "from typing import List, Literal, Optional\n",
    "from pdf2image import convert_from_path\n",
    "from langchain.docstore.document import Document\n",
    "import pytesseract\n",
    "from tqdm.auto import tqdm\n",
    "import os\n",
    "\n",
    "# poppler_path = r\"D:\\poppler\\Library\\bin\"  # Đảm bảo rằng Poppler đã được cài đúng đường dẫn\n",
    "\n",
    "def extract_scan_pdf(\n",
    "    pdf_path: str | Path,\n",
    "    *,\n",
    "    lang: str = \"vie\",\n",
    "    dpi: int = 300,\n",
    "    poppler_path: Optional[str] = None,\n",
    "    extra_tess_config: str = \"--psm 6\",\n",
    ") -> List[Document]:\n",
    "    \"\"\"\n",
    "    Chuyển PDF được scan thành list[Document] (LangChain).\n",
    "\n",
    "    Parameters\n",
    "    ----------\n",
    "    pdf_path : str | Path\n",
    "        Đường dẫn PDF.\n",
    "    lang : str, default ``\"vie\"``\n",
    "        Mã ngôn ngữ Tesseract (có thể 'vie', 'eng+vie', …).\n",
    "    dpi : int, default 300\n",
    "        Độ phân giải xuất ảnh; cao hơn → OCR chính xác hơn nhưng chậm hơn.\n",
    "    poppler_path : str | None\n",
    "        Đường dẫn thư mục chứa binary `pdftoppm` nếu không có trong PATH (Windows).\n",
    "    extra_tess_config : str\n",
    "        Tham số cấu hình bổ sung cho Tesseract (ví dụ `--oem 1`, `--psm 4`).\n",
    "\n",
    "    Returns\n",
    "    -------\n",
    "    List[Document]\n",
    "        Mỗi trang PDF thành một `Document(page_content, metadata)`.\n",
    "        Metadata gồm `page` (bắt đầu 1) và `source` (tên file).\n",
    "    \"\"\"\n",
    "    pdf_path = Path(pdf_path).expanduser().resolve()\n",
    "    if not pdf_path.exists():\n",
    "        raise FileNotFoundError(f\"Không tìm thấy file: {pdf_path}\")\n",
    "\n",
    "    # 1) PDF ➜ hình ảnh\n",
    "    print(\"Converting PDF to Image\")\n",
    "\n",
    "    poppler_path = r\"D:\\poppler\\Library\\bin\"\n",
    "    try:\n",
    "        images = convert_from_path(\n",
    "            pdf_path.as_posix(),\n",
    "            dpi=dpi,\n",
    "            poppler_path=poppler_path,\n",
    "        )\n",
    "    except Exception as e:\n",
    "        print(f\"Error converting PDF to images: {e}\")\n",
    "        return []\n",
    "\n",
    "    # 2) OCR từng trang\n",
    "    print(\"OCR each Pages\")\n",
    "    docs: List[Document] = []\n",
    "    for idx, img in enumerate(tqdm(images, desc=\"🔍 OCR pages\", unit=\"page\"), start=1):\n",
    "        try:\n",
    "            text = pytesseract.image_to_string(\n",
    "                img, lang=lang, config=extra_tess_config\n",
    "            )\n",
    "        except Exception as e:\n",
    "            print(f\"Error OCR page {idx}: {e}\")\n",
    "            text = \"\"  # Nếu có lỗi OCR, bỏ qua trang này\n",
    "\n",
    "        docs.append(\n",
    "            Document(\n",
    "                page_content=text,\n",
    "                metadata={\"page\": idx, \"source\": pdf_path.name},\n",
    "            )\n",
    "        )\n",
    "    \n",
    "    return docs\n"
   ]
  },
  {
   "cell_type": "markdown",
   "metadata": {},
   "source": [
    "## Create Vector Store with Qdrant"
   ]
  },
  {
   "cell_type": "code",
   "execution_count": 6,
   "metadata": {},
   "outputs": [],
   "source": [
    "from qdrant_client.http.exceptions import UnexpectedResponse\n",
    "# giả sử bạn đã có `text_embeddings` và `Document`, `Qdrant` được import\n",
    "\n",
    "def create_vector_store(\n",
    "    documents: List[Document],\n",
    "    collection_name: str = \"vietnamese_book_pdf_vectors\",\n",
    "    recreate: bool = False,      # ← thêm tuỳ chọn\n",
    ") -> Qdrant:\n",
    "    \"\"\"\n",
    "    Tạo (hoặc tái sử dụng) vector store Qdrant.\n",
    "    \n",
    "    Args:\n",
    "        documents: Danh sách Document để index\n",
    "        collection_name: Tên collection trong Qdrant\n",
    "        recreate: True => xoá & tạo lại; False => dùng collection cũ nếu đã tồn tại\n",
    "    \"\"\"\n",
    "    client = QdrantClient(url=\"http://localhost:6333\")\n",
    "\n",
    "    # ------------------------------------------------------------------\n",
    "    # 1) Chuẩn bị collection\n",
    "    # ------------------------------------------------------------------\n",
    "    try:\n",
    "        if recreate:\n",
    "            # Xoá nếu tồn tại, rồi tạo mới\n",
    "            client.recreate_collection(\n",
    "                collection_name=collection_name,\n",
    "                vectors_config=VectorParams(size=1024, distance=Distance.COSINE),\n",
    "            )\n",
    "        else:\n",
    "            # Chỉ tạo nếu CHƯA có\n",
    "            if collection_name not in [\n",
    "                c.name for c in client.get_collections().collections\n",
    "            ]:\n",
    "                client.create_collection(\n",
    "                    collection_name=collection_name,\n",
    "                    vectors_config=VectorParams(size=1024, distance=Distance.COSINE),\n",
    "                )\n",
    "    except UnexpectedResponse as e:\n",
    "        # Bắt lỗi 409 nhưng để các lỗi khác nổi lên\n",
    "        if getattr(e, \"status_code\", None) == 409:\n",
    "            # Collection đã tồn tại & recreate=False → bỏ qua\n",
    "            pass\n",
    "        else:\n",
    "            raise\n",
    "\n",
    "    # ------------------------------------------------------------------\n",
    "    # 2) Khởi tạo Vector store và thêm tài liệu\n",
    "    # ------------------------------------------------------------------\n",
    "    vector_store = Qdrant(\n",
    "        client=client,\n",
    "        collection_name=collection_name,\n",
    "        embeddings=text_embeddings,\n",
    "    )\n",
    "    vector_store.add_documents(documents)\n",
    "    return vector_store"
   ]
  },
  {
   "cell_type": "markdown",
   "metadata": {},
   "source": [
    "## Configure RAG Chain with Gemini"
   ]
  },
  {
   "cell_type": "code",
   "execution_count": 12,
   "metadata": {},
   "outputs": [],
   "source": [
    "# ─── imports ────────────────────────────────────────────────────────────────\n",
    "from langchain_core.messages import SystemMessage, HumanMessage, AIMessage\n",
    "from langchain_google_genai import ChatGoogleGenerativeAI\n",
    "\n",
    "\n",
    "# ─── ONE-SHOT QA (vector search + Gemini) ───────────────────────────────────\n",
    "def answer_question(\n",
    "    vector_store,  # Qdrant (hoặc bất kỳ VectorStore nào hỗ trợ similarity_search)\n",
    "    question: str,  # câu hỏi của user\n",
    "    chat_history: list,  # list[BaseMessage] (HumanMessage / AIMessage)\n",
    "    k: int = 10,  # số chunk lấy từ vector search\n",
    "):\n",
    "    \"\"\"\n",
    "    1. vector_store.similarity_search -> lấy k đoạn context\n",
    "    2. Nhồi context + lịch sử hội thoại vào prompt\n",
    "    3. Gọi Gemini-flash, trả về câu trả lời & cập nhật chat_history\n",
    "    \"\"\"\n",
    "\n",
    "    # 1️⃣  Lấy context --------------------------------------------------------\n",
    "    docs = vector_store.similarity_search(question, k=k)\n",
    "    context = \"\\n\\n\".join(d.page_content for d in docs) or \"Không có ngữ cảnh.\"\n",
    "\n",
    "    # 2️⃣  Xây prompt ---------------------------------------------------------\n",
    "    system_prompt = (\n",
    "        \"You are a helpful assistant answering from provided context. \"\n",
    "        \"If the question is in Vietnamese, answer in Vietnamese with full \"\n",
    "        \"diacritics. If the answer is not in the context, say you don't know.\\n\\n\"\n",
    "        f\"Context:\\n{context}\"\n",
    "    )\n",
    "\n",
    "    # Danh sách message: System + lịch sử + câu hỏi mới\n",
    "    messages = (\n",
    "        [SystemMessage(system_prompt)] + chat_history + [HumanMessage(content=question)]\n",
    "    )\n",
    "\n",
    "    # 3️⃣  Gọi Gemini ---------------------------------------------------------\n",
    "    llm = ChatGoogleGenerativeAI(\n",
    "        model=\"gemini-2.5-flash-preview-04-17\",\n",
    "        temperature=0.5,\n",
    "        additional_kwargs={\"generation_config\": {\"top_p\": 0.95, \"top_k\": 40}},\n",
    "    )\n",
    "    print(messages)\n",
    "    ai_msg: AIMessage = llm.invoke(messages)\n",
    "\n",
    "    # 4️⃣  Cập nhật lịch sử & trả về -----------------------------------------\n",
    "    chat_history.extend([HumanMessage(content=question), ai_msg])\n",
    "    return ai_msg.content  # hoặc return ai_msg nếu bạn cần full object\n"
   ]
  },
  {
   "cell_type": "markdown",
   "metadata": {},
   "source": [
    "## File Upload and Processing"
   ]
  },
  {
   "cell_type": "code",
   "execution_count": 16,
   "metadata": {},
   "outputs": [
    {
     "name": "stdout",
     "output_type": "stream",
     "text": [
      "📄  Processing: SGK_Toan9.pdf\n",
      "Converting PDF to Image\n",
      "OCR each Pages\n"
     ]
    },
    {
     "name": "stderr",
     "output_type": "stream",
     "text": [
      "🔍 OCR pages: 100%|██████████| 119/119 [04:34<00:00,  2.30s/page]\n"
     ]
    },
    {
     "name": "stdout",
     "output_type": "stream",
     "text": [
      "- Extracted 119 pages\n",
      "- Split into 207 chunks\n",
      "\n",
      "✅  Ready for questions!\n"
     ]
    }
   ],
   "source": [
    "# ╔════════════════════════════════════════════════════════════════╗\n",
    "# ║  🚀  Build the index from a local PDF (no widget, no upload)   ║\n",
    "# ╚════════════════════════════════════════════════════════════════╝\n",
    "import os, tempfile, pathlib\n",
    "\n",
    "\n",
    "def build_index_from_local(pdf_path: str):\n",
    "    \"\"\"\n",
    "    Point to any local PDF, then extracts, chunks, embeds and\n",
    "    prepares the RAG chain.  Globals `vector_store` and `rag_chain`\n",
    "    are created exactly like before.\n",
    "    \"\"\"\n",
    "    pdf_path = pathlib.Path(pdf_path).expanduser().resolve()\n",
    "    if not pdf_path.exists():\n",
    "        raise FileNotFoundError(f\"{pdf_path} not found\")\n",
    "\n",
    "    print(f\"📄  Processing: {pdf_path.name}\")\n",
    "\n",
    "    docs = extract_text_from_pdf(str(pdf_path))\n",
    "    if len(docs) == 0:\n",
    "        docs = extract_scan_pdf(str(pdf_path))\n",
    "    print(f\"- Extracted {len(docs)} pages\")\n",
    "    chunks = split_documents(docs)\n",
    "    print(f\"- Split into {len(chunks)} chunks\")\n",
    "\n",
    "    global vector_store\n",
    "    vector_store = create_vector_store(chunks)\n",
    "\n",
    "    print(\"\\n✅  Ready for questions!\")\n",
    "\n",
    "\n",
    "# ▶️  CHANGE THIS TO WHATEVER PDF YOU WANTh\n",
    "build_index_from_local(\"SGK_Toan9.pdf\")\n"
   ]
  },
  {
   "cell_type": "markdown",
   "metadata": {},
   "source": [
    "## Question Answering Interface"
   ]
  },
  {
   "cell_type": "code",
   "execution_count": 18,
   "metadata": {},
   "outputs": [
    {
     "name": "stdout",
     "output_type": "stream",
     "text": [
      "[SystemMessage(content='You are a helpful assistant answering from provided context. If the question is in Vietnamese, answer in Vietnamese with full diacritics. If the answer is not in the context, say you don\\'t know.\\n\\nContext:\\nkhi xuông dôc là 19 kmih.\\nSau bài học này, em đã làm được những gì?\\n~ Giải thích được một số hệ thức về cạnh và góc trong tam giác vuông (cạnh góc vuông\\nbằng cạnh huyền nhàn với sin góc đối hoặc nhàn với côsin góc kể; cạnh góc vuông bằng\\ncạnh góc vuông còn lại nhân với tang góc đối hoặc nhân với côtang góc kề).\\n~ Giải quyết được một số vấn đề thực tiễn gắn với tỉ số lượng giác của góc nhọn (tính độ dài\\nđoan thẳng, độ lớn góc; áp dụng giải tam giác vuông).\\n\\n` ma N HUẾ TU chế —“-.6ế\"\"\\nPhần HIVH H (VÀ. | l) |\\nPhần HIYH HỤU VÀ I) LUUNG\\n|\\n0hương HỆ THỨ LƯỢNG TRŨNG\\nIRM B1RC WUDNG\\nTrong chương này, các em sẽ tìm hiểu về các tÌ số\\nlượng giác của qóc nhọn là sin (sine), côsin (cosine),\\ntang (tangent), côtang (cotangent). Các em sẽ học cách\\nsử dụng tỉ số lượng giác để thiết lập một số hệ thức\\ngiữa cạnh và góc trong tam giác vuông, đồng thời\\nvận dụng các hệ thức trên vào giải tam giác vuông\\nƑ cũng như giải quyết một số bài toán thực tế.\\nX — ⁄\\nVIH(MiII liUi QMIÁM /(4U ụ \"\\nTï sô lượng giác của góc nhọn giúp ta có thể tính được\\nkhoảng cách giữa hai điễm cách xa nhau.\\n\\nCụ thê đồi với tam giác vuông ABC trong Hình 3, ta có:\\n.__ —ÁC bị, AB c, A\\nsinœ=——=—, tcosŒœ=——=-—;\\nBC a BC a\\nAC b AB c\\ntaaœ=——=—; cotœ=——=—. c b\\nAB ec AC b\\nCïiui ý: Với góc nhọn ơ, †a có:\\n« 0< snơ < 1; 0 < cosơ < 1. B a C\\n\"- Hình 3\\ns CO[Œ = ——.\\ntanœ\\nVí dụ I. Tính các tỉ số lượng giác của góc œ trong tam giác ABC (Hình 4).\\nGiải C\\nXét tam giác ABC, A = 90°, B=ơ..\\nTa có: 15\\nnơ =^S=-< -ÿ& tUSU “CC = <0”:\\nBC lŠ BC l§\\n⁄⁄4) _\\ntnu= Â€ -.2 ~0 25, dc 2E. S, B 12 A\\nAB 12 AC 9 3 Hình 4\\nThực hành 1. Tính các tỉ số lượng giác của góc nhọn A trong mỗi tam giác vuông ABC\\ncó Ồ = 90° ở Hình 5 (kết quả làm tròn đến hàng phần trăm).\\nA\\nk B\\nC\\nA\\nB 4 C Mu\\n8) b)\\nC\\nC B\\nNV\\n2\\n3\\nA B\\n“ho\\nA\\nc) d)\\nHình $\\nVận dụng 1. Sử dụng tỉ số lượng giác để giải thích tình huống trong Ế)) (trang 60).\\n\\n2. GIẢI TAM GIÁC VUÔNG\\n&; Cho tam giác ABC (Hình 5). Em hãy cho biết trong các Ạ\\ntrường hợp nào sau đây, ta có thể tính được tất cả các š\\ncạnh và các góc của tam giác. Giải thích cách tính. §\\nB a C\\nHình 5\\n_Tườghp | 2a | b | c | § | ê —\\n”\"mmxmẽ =mˆ RE. =\\nlẲ:z5|<:-.| ti mg iei<”..|. 5...\\nl5 | — j_ |agiGi|ixisejs3e|- 1)\\nGiải một tam giác vuông là tính các cạnh và các góc của tam giác đó.\\nTừ ỔỲ, ta thấy có thể giải được một tam giác vuông nếu biết hai cạnh, hoặc một cạnh và\\nmột góc nhọn của nó.\\nVí dụ 3. Giải các tam giác vuông ở Hình 6. Làm tròn kết quả độ dài đến hàng đơn vị và\\nsô đo góc đền độ.\\nR\\nD\\nB +\\nì ọ 13 9\\nP II\\nA Èb Ft ó P\\na) b) c)\\nHình 6\\nGiải\\na) Xét tam giác ABC vuông tại A, ta có:\\nsinC=S ~.6, suy ra € s33\", Ö œ 90°—33°= 57,\\nBC II\\nTheo định lí Pythagore, ta có:\\nAC=ƒBC? - AB? =x/11?—6? =4(121—36 s9.\\nb) Xét tam giác DEF vuông tại D, ta có:\\nF =90°— 32° = 589,\\nDE = DF. cot E =9. cot 32° 14;\\nsinE = DỀ nên EF=-C.~_— 2_— 17.\\nEF snE sin32°\\n\\ncotœ\\nThực hành 4.\\na) Sử đụng máy tính cầm tay, tính tỉ số lượng giác của các góc sau (kết quả làm tròn đến\\n` À\\n\\nhàng phân nghìn):\\nTnP 2 52°- 1S20: 52\\'18\\'.\\nb) Tìm các góc nhọn x, y, Z, t trong mỗi trường hợp sau (kết quả làm tròn đến hàng\\nphân trăm hoặc đến phút):\\nsinx= 0,723; cos y = 0,828; tan z= 3,77; cot t= 1,54.\\nVận dụng 4.\\na) Vẽ một tam giác vuông có một góc bằng 40°. Đo độ đài các cạnh rồi dùng các sô đo\\nđể tính các tỉ số lượng giác của góc 40°. Kiểm tra lại các kết quả vừa tính bằng máy tính\\ncầm tay.\\nb) Vẽ một tam giác vuông có ba cạnh bằng 3 em, 4 em, 5 em. Tính các tỉ số lượng giác\\ncủa mỗi góc nhọn. Dùng thước đo góc đễ đo các góc nhọn. Kiểm tra lại các kết quả bằng\\nmáy tính cầm tay.\\n\\nb=a.sinB =a.cosC; c€=a.sSinC =a.cosB;\\nb =c.tanB = c.cotC; c =b.tanC = b.cotB.\\nLí dụ 1. Cho tam giác vuông có cạnh huyền bằng 30 em và một góc nhọn bằng 22°\\n(Hình 2). Tính x, y (kết quả làm tròn đến hàng phần trăm).\\nGiải\\nTam giác vuông đã cho có cạnh huyền bằng 30 cm. x\\nCạnh góc vuông x có góc kê băng 22° nên ta có: Ÿ\\nx=30.cos22° + 27,82 (cm).\\nCạnh góc vuông y có góc đôi bằng 22° nên ta có: mm\\ny=30.. sin22° 11,24 (em). Hình 2\\n\\nTỉ số lượng giác của các góc nhọn đặc biệt (góc 30°, 459, 60°)\\n\\nÊ; a) Cho tam giác ABC vuông cân CN M\\ntại A có cạnh góc vuông băng a /\\n(Hình 6a). Tính độ đài cạnh huyền BC :\\ntheo a, rồi tính các tỉ số lượng giác  a : Ầ\\ncủa góc 45”.\\n\\nb) Cho tam giác đều MNP có cạnh\\nbằng a (Hình ób). Tính độ đài  Ƒ M b\\nđường cao MH theoa rồi tính cáctisó — . CÁ 5 tr 5 _\\nlượng giác của góc 30° và góc 60°. 8) `. b)\\nTừ kết quả của Ế%, ta có bảng tỉ số lượng giác của các góc 30°, 45°, 60° như sau:\\nBảng (ï số lượng giác của các góc nhọn đặc biệt\\n2 2 2\\ne4 2 2 2\\n3\\nÑ, 3\\nVi dụ 2. Tỉnh giá trị của biểu thức P=S U CC ĐỂ,\\ntan 45°\\nGiải\\n11\\nsin30°.ceos6020_ 2\\'2 _ 1\\nTacóP=———————=Sằ“=~.\\ntan45° L4\\nThực hành 2. Tính giá trị của các biêu thức sau:\\n2cos 45°\\n3) A=““=—-+3tan30°; Ạ\\n2sinó0°\\nb)B= — cot 457.\\nVận dụng 2. Tìm chiêu cao của tháp canh : M\\ntrong Hình 7 (kết quả làm tròn đến hàng\\nphần trăm). ,\\nLời “ă\\n\\n2. TỈ SỐ LƯỢNG GIÁC CỦA HAI GÓC PHỤ NHAU\\nÔ NGÃ aayyaysa B\\n90° - œ trong Hình 8 theo a, b, c. L2\\n^ ^ ~^ ^ ^ IS“\\nb) So sánh sin B và cosC, cos B và sinC, tan B và € ạ\\ncotC, tanC và cot B.\\nLỊ đ/\\nA b C\\nHình §\\nHai góc được gọi là phụ nhau nếu chúng có tổng bằng 90°. Như vậy, góc phụ của\\ngóc nhọn œ là góc (90° — œ).\\nTừẩỔ), ta có các đẳng thức giữa tỉ số lượng giác của hai góc phụ nhau như sau:\\nXNK và ni e phụ nhau thì sin góc này bằng côsin góc kia, tang góc này bằng côtang\\ngóc kia. .—œ.\\nsin(90° — œ) = eos œ; . š(90° — 0) = sing,,\\ntan(90°— g) = coto; (90°~g)=tano....\\nCJi ý: Từ nay khi viết các tỉ sô lượng giác của một góc nhọn trong tam giác, ta có thê\\nviết sin A thay cho sinA.\\nVí dụ 3. So sánh:\\na) sin25” và cos6S°; b) cos25” và sin6S°”;\\n©) tan25” và eot65“; đ) cot25” và tanóS”.\\nGiải\\nTa có:\\na) sin25” = cos(90” — 25”) = cos65”: b) cos25” = sin(90° - 25”) = sin65°;\\ne) tan25° = cot(90° - 25”) = cot65°; đ) cot25° = tan(90° — 25”) = tan65°.\\nThực hành 3.\\n\\nHình 4\\n12. Cho tam giác ABC có ba đỉnh nằm trên đường tròn (O) và AH là đường cao.\\nĐường thẳng AO cắt đường tròn (O) tại điểm thứ hai D. Chứng minh rằng:\\na) AC vuông góc với DC;\\nb) ABC = ADC;\\nc)AB. AC=AH. AD.\\n\\nBÀI TẬP TỰ LUẬN\\nTrong các bài tập dưới đây, nếu không nói gì thêm thì làm tròn kết quả đến hàng\\nphần mười hoặc đến phú!.\\n9. Tìm số đo góc œ biết rằng:\\na) sanœ=0,25;  b)cosœ=0,75; c) tanơœ = l; đ) cotœ =2.\\n10. Cho tam giác ABC vuông tại A có AB = 18 em, AC = 24 em. Tính các tỉ số lượng giác\\ncủa góc B, từ đó suy ra các tỉ số lượng giác của góc C.\\n11. Cho tam giác ABC vuông tại A. Chứng minh rằng . HÀ\\nAB sinC\\n12. Cho góc nhọn œ biết sin œ = 0,8. Tính cos œ, tan œ và cot œ.\\n13. Tính giá trị của biểu thức:\\n8) A=4—sin?45° + 2 cos?60° — 3 cot? 459:\\nb) B =tan45°. cos30°. cot30”;\\nc) C=sin 15 + sin75” — cos I5” — cos75° + sin30!.\\n14. Cho tam giác OPQ vuông tại O có P = 39” và PQ = 10 em. Hãy giải tam giác vuông OPQ.\\nM\\n»\\n15. Hai điệm P và Q cách nhau 203 m và thăng hàng\\nvới chân của một toà tháp (Hình 3). Từ đính của\\n⁄ toà tháp đó, một người nhìn thây hai điểm P, Q\\nvới hai góc nghiêng xuống lần lượt là 38° và 44/.\\nTính chiều cao của toà tháp (kết quả làm tròn\\n` đến hàng đơn vị của mét).\\nP203mQ N\\nHình 3\\n` .á h ` hở) | \"', additional_kwargs={}, response_metadata={}), HumanMessage(content='Hãy cho tôi biết hệ thức lượng trong tam giác vuông?', additional_kwargs={}, response_metadata={})]\n",
      "Question: Hãy cho tôi biết hệ thức lượng trong tam giác vuông?\n",
      "Answer: Hệ thức lượng trong tam giác vuông bao gồm các công thức liên quan đến cạnh và góc, cụ thể như sau:\n",
      "\n",
      "1. Cạnh góc vuông bằng cạnh huyền nhân với sin góc đối:\n",
      "   - \\( AB = c \\cdot \\sin \\angle A \\)\n",
      "\n",
      "2. Cạnh góc vuông bằng cạnh huyền nhân với cos góc kề:\n",
      "   - \\( AC = c \\cdot \\cos \\angle A \\)\n",
      "\n",
      "3. Cạnh góc vuông bằng cạnh góc vuông còn lại nhân với tang góc đối:\n",
      "   - \\( AB = AC \\cdot \\tan \\angle A \\)\n",
      "\n",
      "4. Cạnh góc vuông bằng cạnh góc vuông còn lại nhân với côtang góc kề:\n",
      "   - \\( AC = AB \\cdot \\cot \\angle A \\)\n",
      "\n",
      "Ngoài ra, theo định lý Pythagore, tổng bình phương của hai cạnh góc vuông bằng bình phương của cạnh huyền:\n",
      "   - \\( AB^2 + AC^2 = BC^2 \\)\n",
      "\n",
      "Các tỉ số lượng giác của góc nhọn trong tam giác vuông cũng giúp tính toán khoảng cách giữa hai điểm cách xa nhau.\n"
     ]
    }
   ],
   "source": [
    "# Initialize chat history for conversation\n",
    "chat_history = []\n",
    "# Example usage\n",
    "# Replace with your actual question\n",
    "question = \"Hãy cho tôi biết hệ thức lượng trong tam giác vuông?\"  # \"What is the main content of this document?\"\n",
    "answer = answer_question(vector_store, question, chat_history)\n",
    "print(f\"Question: {question}\")\n",
    "print(f\"Answer: {answer}\")"
   ]
  },
  {
   "cell_type": "code",
   "execution_count": null,
   "metadata": {},
   "outputs": [],
   "source": []
  }
 ],
 "metadata": {
  "kernelspec": {
   "display_name": "venv",
   "language": "python",
   "name": "python3"
  },
  "language_info": {
   "codemirror_mode": {
    "name": "ipython",
    "version": 3
   },
   "file_extension": ".py",
   "mimetype": "text/x-python",
   "name": "python",
   "nbconvert_exporter": "python",
   "pygments_lexer": "ipython3",
   "version": "3.13.1"
  }
 },
 "nbformat": 4,
 "nbformat_minor": 4
}
